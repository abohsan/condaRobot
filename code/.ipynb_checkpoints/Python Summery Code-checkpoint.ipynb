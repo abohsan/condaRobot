{
 "cells": [
  {
   "cell_type": "code",
   "execution_count": 183,
   "metadata": {},
   "outputs": [],
   "source": [
    "# Library\n",
    "import random\n",
    "import sys\n",
    "import os\n"
   ]
  },
  {
   "cell_type": "code",
   "execution_count": 132,
   "metadata": {},
   "outputs": [
    {
     "name": "stdout",
     "output_type": "stream",
     "text": [
      "Hello World\n"
     ]
    }
   ],
   "source": [
    "# this is how you add one line comment\n",
    "\n",
    "'''\n",
    "muliLine comment\n",
    "\n",
    "'''\n",
    "print(\"Hello World\")\n",
    "\n"
   ]
  },
  {
   "cell_type": "code",
   "execution_count": 133,
   "metadata": {},
   "outputs": [
    {
     "name": "stdout",
     "output_type": "stream",
     "text": [
      "Hello World one time\n",
      "Hello World five time\n",
      "Hello World five time\n",
      "Hello World five time\n",
      "Hello World five time\n",
      "Hello World five time\n",
      "\n"
     ]
    }
   ],
   "source": [
    "# veriable has to start with letter\n",
    "\n",
    "print(\"Hello World one time\")\n",
    "n = 5\n",
    "print(\"Hello World five time\\n\" * n)"
   ]
  },
  {
   "cell_type": "code",
   "execution_count": 134,
   "metadata": {},
   "outputs": [
    {
     "name": "stdout",
     "output_type": "stream",
     "text": [
      "5 + 2  = 7\n",
      "5 - 2  = 3\n",
      "5 * 2  = 10\n",
      "5 / 2  = 2.5\n",
      "5 % 2  = 1\n",
      "5 ** 2 = 25\n",
      "5 // 2 = 2\n",
      "\n",
      "\n",
      "\n",
      "  ---------  Oreder Operation Matter --------- \n",
      "\n",
      "\n",
      "1 + 2 - 3 * 2  =  -3\n",
      "(1 + 2 - 3) * 2  =  0\n"
     ]
    }
   ],
   "source": [
    "#opration \n",
    "\n",
    "print(\"5 + 2  =\", 5 + 2)\n",
    "print(\"5 - 2  =\", 5 - 2)\n",
    "print(\"5 * 2  =\", 5 * 2)\n",
    "print(\"5 / 2  =\", 5 / 2)\n",
    "print(\"5 % 2  =\", 5 % 2)\n",
    "print(\"5 ** 2 =\", 5 ** 2)\n",
    "print(\"5 // 2 =\", 5 // 2)\n",
    "\n",
    "print(\"\\n\" *2)\n",
    "\n",
    "print(\"  ---------  Oreder Operation Matter --------- \")\n",
    "\n",
    "print(\"\\n\")\n",
    "\n",
    "print(\"1 + 2 - 3 * 2  = \", 1 + 2 - 3 * 2 )\n",
    "print(\"(1 + 2 - 3) * 2  = \", (1 + 2 - 3) * 2 )\n",
    "\n"
   ]
  },
  {
   "cell_type": "code",
   "execution_count": 135,
   "metadata": {},
   "outputs": [
    {
     "name": "stdout",
     "output_type": "stream",
     "text": [
      "I like the quote \"Always remember that you are unique Just like everyone else\"\n",
      " \n",
      "I don't like newline\n",
      "\"Always remember that you are uniqueJust like everyone else\"\n",
      "\n"
     ]
    }
   ],
   "source": [
    "#Quote\n",
    "quote = \"\\\"Always remember that you are unique\"\n",
    "muli_line_quote = '''Just like everyone else\"\n",
    "'''\n",
    "new_string = quote + muli_line_quote\n",
    "\n",
    "print(\"%s %s %s \"% ('I like the quote',quote , muli_line_quote))\n",
    "\n",
    "print(\"I don't like \",end=\"\")\n",
    "print(\"newline\")\n",
    "print(new_string)"
   ]
  },
  {
   "cell_type": "code",
   "execution_count": 136,
   "metadata": {},
   "outputs": [
    {
     "name": "stdout",
     "output_type": "stream",
     "text": [
      "first Iteam list0\n",
      "first Iteam list00\n",
      "['list1', 'list2']\n",
      "[['list00', 'list1', 'list2', 'list3'], ['event0', 'event1', 'event2', 'event3']]\n",
      "event0\n",
      "['list00', 'insert', 'list1', 'list2', 'list3', 'appended']\n",
      "['appended', 'list00', 'list1', 'list2', 'list3']\n",
      "['list3', 'list2', 'list1', 'list00', 'appended']\n",
      "['list3', 'list2', 'list1', 'list00']\n",
      "['list3', 'list2', 'list1', 'list00', 'event0', 'event1', 'event2', 'event3']\n",
      "8\n",
      "list3\n",
      "event0\n"
     ]
    }
   ],
   "source": [
    "# A list\n",
    "gorcery_list = ['list0','list1','list2','list3'] # Create a list\n",
    "print(\"first Iteam\", gorcery_list[0] ); \n",
    "gorcery_list[0] = 'list00'; # change \n",
    "print(\"first Iteam\", gorcery_list[0] );\n",
    "\n",
    "print(gorcery_list[1:3]); # return a list from postion 1 to 3 (not including 3)\n",
    "\n",
    "otherEvent = ['event0','event1','event2','event3']\n",
    "toDoList = [gorcery_list,otherEvent] # Create lists inside a list\n",
    "print(toDoList)\n",
    "print(toDoList[1][0])\n",
    "gorcery_list.append('appended')\n",
    "\n",
    "gorcery_list.insert(1,'insert') # Insert 'insert' in specific postion in the list\n",
    "\n",
    "print(gorcery_list)\n",
    "\n",
    "gorcery_list.remove('insert') # Remove 'insert' from the list\n",
    "gorcery_list.sort()  #  Sort the list\n",
    "print(gorcery_list)\n",
    "\n",
    "gorcery_list.reverse()  # Reverse the list\n",
    "print(gorcery_list)\n",
    "\n",
    "del gorcery_list[4] # Delete the fourth iteam in the list\n",
    "print(gorcery_list)\n",
    "\n",
    "\n",
    "todoList2= gorcery_list + otherEvent # combined lists in one list\n",
    "\n",
    "print(todoList2)\n",
    "\n",
    "print(len(todoList2)) # Get the length of a list.\n",
    "\n",
    "print(max(todoList2)) # Get the max \n",
    "\n",
    "print(min(todoList2)) # Get the min \n",
    "\n",
    "\n"
   ]
  },
  {
   "cell_type": "code",
   "execution_count": 137,
   "metadata": {},
   "outputs": [
    {
     "name": "stdout",
     "output_type": "stream",
     "text": [
      "(1, 2, 3, 4, 5, 7)\n",
      "The length of the tuple  6\n",
      "The max of the tuple  7\n",
      "The min of the tuple  1\n"
     ]
    }
   ],
   "source": [
    "# Tuple\n",
    "# Tuble can not be modified.\n",
    "pi_tuple = (2,3,1,4,5,7)\n",
    "\n",
    "new_list = (list(pi_tuple)) # convert tuple to a list\n",
    "new_list.sort()  # sort the list\n",
    "new_tuple = tuple(new_list)\n",
    "print(new_tuple)\n",
    "\n",
    "print(\"The length of the tuple \" , len(new_tuple))  # the length of the tuple\n",
    "print(\"The max of the tuple \",max(new_tuple))  # the max of the tuple\n",
    "print(\"The min of the tuple \",min(new_tuple))  # the min of the tuple\n",
    "\n",
    "\n",
    "\n",
    "\n",
    "\n"
   ]
  },
  {
   "cell_type": "code",
   "execution_count": 138,
   "metadata": {},
   "outputs": [
    {
     "name": "stdout",
     "output_type": "stream",
     "text": [
      "name2\n",
      "name5\n",
      "4\n",
      "name4\n",
      "dict_keys(['plate0', 'plate1', 'plate3', 'plate4'])\n",
      "dict_values(['name0', 'name1', 'name5', 'name4'])\n"
     ]
    }
   ],
   "source": [
    "# Dictionary \n",
    "        #{ 'the Key' : 'Info' }\n",
    "newCars = {'plate0':'name0', #{ 'the Key' :'Info'}\n",
    "            'plate1':'name1',\n",
    "            'plate2':'name2',\n",
    "            'plate3':'name3',\n",
    "            'plate4':'name4',} #create a dictionary dictionary\n",
    "print(newCars['plate2']) # passing the key to get the Info \n",
    "\n",
    "del newCars['plate2']  # Deleting the key and its info \n",
    "newCars['plate3'] = 'name5' # Changing the Info for specific key\n",
    "\n",
    "print(newCars['plate3'])  \n",
    "\n",
    "print(len(newCars))\n",
    "\n",
    "print(newCars.get(\"plate4\"))\n",
    "\n",
    "print(newCars.keys()) # Get all the keys without their Info\n",
    "\n",
    "print(newCars.values()) # Get all the Info without their keys\n"
   ]
  },
  {
   "cell_type": "code",
   "execution_count": 139,
   "metadata": {},
   "outputs": [
    {
     "name": "stdout",
     "output_type": "stream",
     "text": [
      "You are old enough to drive\n",
      "\n",
      "First conditon finished\n",
      "\n",
      "you are not allowed to drive trucks\n",
      "\n",
      "Second conditon finished\n",
      "\n",
      "you get a brithday party\n"
     ]
    }
   ],
   "source": [
    "# condition and comparison \n",
    "\n",
    "age = 30\n",
    "\n",
    "if age > 16:\n",
    "    print('You are old enough to drive')\n",
    "else:\n",
    "    print('you are not allowed to drive')\n",
    "print(\"\\nFirst conditon finished\\n\")\n",
    "\n",
    "if age >= 21:\n",
    "    print('you are not allowed to drive trucks')\n",
    "elif age > 16:\n",
    "    print('you are not allowed to drive small cars')\n",
    "else:    \n",
    "    print(\"Sorry! You are not allowed to drive\")\n",
    "print(\"\\nSecond conditon finished\\n\")\n",
    "\n",
    "\n",
    "if((age > 1) and (age < 18)):\n",
    "    print(\"you got a brithday 0\")\n",
    "elif ((age == 21) or (age >= 65)):\n",
    "    print(\"you got a brithday 1\")\n",
    "elif not(age == 30):\n",
    "    print(\"you do not get a brithday\")\n",
    "else:\n",
    "    print(\"you get a brithday party\")\n",
    "\n"
   ]
  },
  {
   "cell_type": "code",
   "execution_count": 140,
   "metadata": {},
   "outputs": [
    {
     "name": "stdout",
     "output_type": "stream",
     "text": [
      "0  1  2  3  4  5  6  7  8  9  list0\n",
      "list1\n",
      "list2\n",
      "list3\n",
      "\n",
      "The following is the double loop\n",
      "\n",
      "list00\n",
      "list01\n",
      "list02\n",
      "list03\n",
      "list10\n",
      "list11\n",
      "list12\n",
      "list13\n",
      "\n",
      "The following is about while loop\n",
      "\n",
      "6\n",
      "1\n",
      "4\n",
      "2\n",
      "6\n",
      "8\n",
      "8\n",
      "2\n",
      "0\n",
      "4\n",
      "7\n",
      "4\n",
      "6\n",
      "6\n",
      "2\n",
      "4\n",
      "1\n",
      "4\n",
      "8\n",
      "0\n",
      "8\n"
     ]
    }
   ],
   "source": [
    "# for loop\n",
    "\n",
    "alist0 = ['list00','list01','list02','list03'] # Create a list\n",
    "alist1 = ['list10','list11','list12','list13'] # Create a list\n",
    "lists = [alist0,alist1]\n",
    "\n",
    "\n",
    "for x in range(0,10):\n",
    "    print(x,\" \",end=\"\")\n",
    "\n",
    "for x in alist:\n",
    "    print(x)\n",
    "\n",
    "print(\"\\nThe following is the double loop\\n\")\n",
    "\n",
    "for x in lists:\n",
    "     for c in x:\n",
    "        print(c)\n",
    "        \n",
    "print(\"\\nThe following is about while loop\\n\")\n",
    "\n",
    "        \n",
    "random_num = random.randrange(0,10)\n",
    "\n",
    "   \n",
    "while(random_num != 5):\n",
    "    print(random_num )\n",
    "    random_num = random.randrange(0,10)   "
   ]
  },
  {
   "cell_type": "code",
   "execution_count": 141,
   "metadata": {},
   "outputs": [
    {
     "name": "stdout",
     "output_type": "stream",
     "text": [
      "14\n"
     ]
    }
   ],
   "source": [
    "# Function\n",
    "def addNumber(a,b):\n",
    "    numSum = a + b\n",
    "    return numSum\n",
    "string = addNumber(3,4)\n",
    "print(addNumber(3,4) + string )"
   ]
  },
  {
   "cell_type": "code",
   "execution_count": 184,
   "metadata": {},
   "outputs": [
    {
     "name": "stdout",
     "output_type": "stream",
     "text": [
      "what is your Name\n",
      "your name is  \n"
     ]
    }
   ],
   "source": [
    "# input from users \n",
    "print(\"what is your Name\")\n",
    "name = sys.stdin.readline()\n",
    "print(\"your name is \", name)"
   ]
  },
  {
   "cell_type": "code",
   "execution_count": 182,
   "metadata": {},
   "outputs": [
    {
     "name": "stdout",
     "output_type": "stream",
     "text": [
      "I love python\n",
      "it seems we are getting along\n",
      "along\n",
      "I love python, it seems we are getting \n",
      "I love python oh yeah I really do!\n",
      "x is my favorite letter and number 1, number is 0.14000\n",
      "i'll catch you if you fall\n",
      "I'll catch you if you fall\n",
      "26\n",
      "22\n",
      "False\n",
      "False\n",
      "I'll catch you if you fly\n",
      "I'll catch you if you fall\n",
      "[\"I'll\", 'catch', 'you', 'if', 'you', 'fall']\n"
     ]
    }
   ],
   "source": [
    "#String\n",
    "\n",
    "theString = \"I love python, it seems we are getting along\"\n",
    "print(theString[0:13])\n",
    "print(theString[15:]) \n",
    "print(theString[-5:])\n",
    "print(theString[:-5])\n",
    "newString = theString[0:13] + \" oh yeah I really do!\"\n",
    "print(newString)\n",
    "\n",
    "print(\"%c is my %s letter and number %d, number is %.5f\" %\n",
    "     ('x' ,\"favorite\",1,.14))\n",
    "astring = \"i'll catch you if you fall\"\n",
    "print(astring)\n",
    "astring = astring.capitalize()\n",
    "print(astring)\n",
    "print(len(astring))\n",
    "print(astring.find(\"fall\"))\n",
    "print(astring.isalpha())\n",
    "print(astring.isalnum())\n",
    "print(astring.replace(\"fall\",\"fly\"))\n",
    "print(astring.strip())\n",
    "\n",
    "word_list = astring.split(\" \")\n",
    "print(word_list)\n",
    "\n",
    "\n"
   ]
  },
  {
   "cell_type": "code",
   "execution_count": 191,
   "metadata": {},
   "outputs": [
    {
     "name": "stdout",
     "output_type": "stream",
     "text": [
      "wb\n",
      "testFile.txt\n",
      "write me to the file\n",
      "\n"
     ]
    }
   ],
   "source": [
    "# file \n",
    "# mode type (\"wb\" is write), (\"ab+\" is read and write),(\"r+\" is read and write)\n",
    "\n",
    "myFile = open(\"testFile.txt\", \"wb\")\n",
    "print(myFile.mode)\n",
    "\n",
    "print(myFile.name)\n",
    "myFile.write(bytes(\"write me to the file\\n\", 'UTF-8'))\n",
    "myFile.close()\n",
    "\n",
    "myFile = open(\"testFile.txt\", \"r+\")\n",
    "text_in_file = myFile.read()\n",
    "print(text_in_file)\n",
    "\n",
    "os.remove(\"testFile.txt\")\n",
    "\n"
   ]
  },
  {
   "cell_type": "code",
   "execution_count": 289,
   "metadata": {},
   "outputs": [
    {
     "name": "stdout",
     "output_type": "stream",
     "text": [
      "theDog00 is 40 cm tall and 20 kilograms and say theSound00 his owner theOwner00\n",
      "finish\n",
      "theName0 is 33 cm tall and 10 kilograms and say theSound0\n",
      "theName1 is 34 cm tall and 11 kilograms and say theSound1\n",
      "the Name is theName1\n",
      "the height is 34\n",
      "the weight is 11\n",
      "the sound is theSound1\n"
     ]
    }
   ],
   "source": [
    "# object\n",
    "\n",
    "class Animal:\n",
    "    _name =\"\"\n",
    "    _height=0\n",
    "    _weight =0\n",
    "    _sound = 0\n",
    "    def __init__(self,name,height,weight,sound):\n",
    "        self._name = name\n",
    "        self._height = height\n",
    "        self._weight = weight\n",
    "        self._sound = sound\n",
    "        \n",
    "    def setName(self,name):\n",
    "        self._name = name\n",
    "    def getName(self):\n",
    "        return self._name\n",
    " \n",
    "    def setHeight(self,height):\n",
    "        self._height = height\n",
    "    def getHeight(self):\n",
    "        return self._height\n",
    "       \n",
    "    def setWeight(self,weight):\n",
    "        self._weight = weight\n",
    "    def getWeight(self):\n",
    "        return self._weight\n",
    "       \n",
    "    def setSound(self,sound):\n",
    "        self._sound = sound\n",
    "    def getSound(self):\n",
    "        return self._sound\n",
    "    \n",
    "    def getType(self):\n",
    "        print(\"Animal\")\n",
    "        \n",
    "    def toString(self):\n",
    "        return \"{} is {} cm tall and {} kilograms and say {}\".format(self._name,\n",
    "                                                                    self._height,\n",
    "                                                                    self._weight,\n",
    "                                                                    self._sound)\n",
    "    \n",
    "    #End of animal class\n",
    "class Dog(Animal): # inherent from Animal class\n",
    "    __owner = \"\"\n",
    "    def __init__(self,name,height,weight,sound, owner):\n",
    "        self._owner = owner\n",
    "        super(Dog,self).__init__(name,height,weight,sound)\n",
    "        \n",
    "    def setOwner(self,owner):\n",
    "        self._owner = owner\n",
    "    def getOwner(self):\n",
    "        return self._owner\n",
    "    \n",
    "    def getType(self):\n",
    "        print(\"Dog\")\n",
    "        \n",
    "    def toString(self):\n",
    "#         return \"OverWriting is not working\"\n",
    "        return \"{} is {} cm tall and {} kilograms and say {} his owner {}\".format(self._name,\n",
    "                                                                    self._height,\n",
    "                                                                    self._weight,\n",
    "                                                                    self._sound,\n",
    "                                                                    self._owner)\n",
    "    def multlple_sound(self,howMany=None):                                                                          \n",
    "        if howMany is None:\n",
    "            print(self.getSound())\n",
    "        else:\n",
    "            print( ( self.getSound() + \"\\n\" ) * howMany )\n",
    "                \n",
    "theDog = Dog(\"theDog00\",40,20,\"theSound00\",\"theOwner00\") \n",
    "\n",
    "print(theDog.toString())\n",
    "print(\"finish\")\n",
    "  \n",
    "            \n",
    "\n",
    "theAnimal = Animal(\"theName0\",33,10,\"theSound0\")\n",
    "\n",
    "print(theAnimal.toString())\n",
    "\n",
    "theAnimal.setName(\"theName1\")\n",
    "theAnimal.setSound(\"theSound1\")\n",
    "theAnimal.setHeight(34)\n",
    "theAnimal.setWeight(11)\n",
    "\n",
    "\n",
    "print(theAnimal.toString())\n",
    "  \n",
    "print(\"the Name is\",theAnimal.getName())\n",
    "print(\"the height is\",theAnimal.getHeight())\n",
    "print(\"the weight is\",theAnimal.getWeight())\n",
    "print(\"the sound is\",theAnimal.getSound())\n",
    "\n",
    "\n"
   ]
  },
  {
   "cell_type": "code",
   "execution_count": null,
   "metadata": {},
   "outputs": [],
   "source": []
  }
 ],
 "metadata": {
  "kernelspec": {
   "display_name": "Python 3",
   "language": "python",
   "name": "python3"
  },
  "language_info": {
   "codemirror_mode": {
    "name": "ipython",
    "version": 3
   },
   "file_extension": ".py",
   "mimetype": "text/x-python",
   "name": "python",
   "nbconvert_exporter": "python",
   "pygments_lexer": "ipython3",
   "version": "3.7.1"
  }
 },
 "nbformat": 4,
 "nbformat_minor": 2
}
